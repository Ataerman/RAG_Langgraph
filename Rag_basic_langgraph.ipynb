{
  "nbformat": 4,
  "nbformat_minor": 0,
  "metadata": {
    "colab": {
      "provenance": [],
      "authorship_tag": "ABX9TyO9frfcVgV2EIQ5iyhIbXIA",
      "include_colab_link": true
    },
    "kernelspec": {
      "name": "python3",
      "display_name": "Python 3"
    },
    "language_info": {
      "name": "python"
    }
  },
  "cells": [
    {
      "cell_type": "markdown",
      "metadata": {
        "id": "view-in-github",
        "colab_type": "text"
      },
      "source": [
        "<a href=\"https://colab.research.google.com/github/Ataerman/RAG_Langgraph/blob/main/Rag_basic_langgraph.ipynb\" target=\"_parent\"><img src=\"https://colab.research.google.com/assets/colab-badge.svg\" alt=\"Open In Colab\"/></a>"
      ]
    },
    {
      "cell_type": "code",
      "source": [
        "!pip install -q langgraph langchain-openai langchain-community langchain langchain-tavily\n",
        "!pip install -q langchain-cohere sentence-transformers faiss-cpu datasets accelerate cohere\n"
      ],
      "metadata": {
        "id": "ppLy2dJC5eI0"
      },
      "execution_count": 157,
      "outputs": []
    },
    {
      "cell_type": "code",
      "source": [
        "from google.colab import userdata\n",
        "import os\n",
        "openai_api_key=userdata.get('openai')\n",
        "cohere_api_key=userdata.get('cohere')\n",
        "langsmith_api_key=userdata.get('langsmith')\n",
        "tavily_api_key=userdata.get('tavily')\n",
        "\n",
        "os.environ[\"LANGSMITH_TRACING\"] = \"true\"\n",
        "os.environ[\"LANGSMITH_ENDPOINT\"] = \"https://api.smith.langchain.com\"\n",
        "os.environ[\"LANGSMITH_API_KEY\"] = langsmith_api_key\n",
        "os.environ[\"LANGSMITH_PROJECT\"] = \"langgraph_first\"\n"
      ],
      "metadata": {
        "id": "5c2hQ3cF5eXz"
      },
      "execution_count": 158,
      "outputs": []
    },
    {
      "cell_type": "code",
      "source": [
        "\n",
        "from typing import TypedDict, List, Literal\n",
        "from langchain_core.documents import Document\n",
        "from langchain_core.messages import HumanMessage, AIMessage\n",
        "from langchain.text_splitter import RecursiveCharacterTextSplitter\n",
        "from langchain.vectorstores import FAISS\n",
        "from langchain.embeddings import HuggingFaceEmbeddings\n",
        "from langchain.retrievers import ContextualCompressionRetriever\n",
        "from langchain_cohere import CohereRerank\n",
        "from langchain_openai import ChatOpenAI\n",
        "from langgraph.graph import StateGraph, END\n",
        "from langgraph.types import Command\n",
        "\n",
        "text = \"\"\"Interstellar is a 2014 epic science fiction film co-written, directed, and produced by Christopher Nolan.\n",
        "It stars Matthew McConaughey, Anne Hathaway, Jessica Chastain, Bill Irwin, Ellen Burstyn, Matt Damon, and Michael Caine.\n",
        "Set in a dystopian future where humanity is struggling to survive, the film follows a group of astronauts who travel through a wormhole near Saturn in search of a new home for mankind.\n",
        "\n",
        "Brothers Christopher and Jonathan Nolan wrote the screenplay, which had its origins in a script Jonathan developed in 2007.\n",
        "Caltech theoretical physicist and 2017 Nobel laureate in Physics Kip Thorne was an executive producer, acted as a scientific consultant, and wrote a tie-in book, The Science of Interstellar.\n",
        "Cinematographer Hoyte van Hoytema shot it on 35 mm movie film in the Panavision anamorphic format and IMAX 70 mm.\n",
        "Principal photography began in late 2013 and took place in Alberta, Iceland, and Los Angeles.\n",
        "Interstellar uses extensive practical and miniature effects and the company Double Negative created additional digital effects.\n",
        "\n",
        "Interstellar premiered on October 26, 2014, in Los Angeles.\n",
        "In the United States, it was first released on film stock, expanding to venues using digital projectors.\n",
        "The film had a worldwide gross over $677 million (and $773 million with subsequent re-releases), making it the tenth-highest grossing film of 2014.\n",
        "It received acclaim for its performances, direction, screenplay, musical score, visual effects, ambition, themes, and emotional weight.\n",
        "It has also received praise from many astronomers for its scientific accuracy and portrayal of theoretical astrophysics.\n",
        "Since its premiere, Interstellar gained a cult following, and now is regarded by many sci-fi experts as one of the best science-fiction films of all time.\n",
        "Interstellar was nominated for five awards at the 87th Academy Awards, winning Best Visual Effects, and received numerous other accolades.\"\"\"\n",
        "\n",
        "doc = Document(page_content=text)\n",
        "splitter = RecursiveCharacterTextSplitter(chunk_size=100, chunk_overlap=50)\n",
        "docs = splitter.split_documents([doc])\n",
        "docs = [Document(**d) if isinstance(d, dict) else d for d in docs]\n",
        "\n",
        "embeddings = HuggingFaceEmbeddings(model_name='sentence-transformers/all-MiniLM-L6-v2')\n",
        "vectorstore = FAISS.from_documents(docs, embeddings)\n",
        "retriever = vectorstore.as_retriever(search_kwargs={\"k\": 10})\n",
        "\n",
        "\n",
        "class RagState(TypedDict):\n",
        "    messages: List[HumanMessage | AIMessage]\n",
        "    docs: List[Document]\n",
        "\n",
        "\n",
        "def retriever_agent(state: RagState) -> Command:\n",
        "    query = state[\"messages\"][-1].content\n",
        "    docs = retriever.invoke(query)\n",
        "    docs = [Document(**d) if isinstance(d, dict) else d for d in docs]\n",
        "    return Command(goto=\"reranker_agent\", update={\"docs\": docs})\n",
        "\n",
        "\n",
        "cohere_api_key = userdata.get(\"cohere\")\n",
        "cohere_reranker = ContextualCompressionRetriever(\n",
        "    base_compressor=CohereRerank(\n",
        "        cohere_api_key=cohere_api_key,\n",
        "        model=\"rerank-multilingual-v3.0\",\n",
        "        top_n=3\n",
        "    ),\n",
        "    base_retriever=retriever\n",
        ")\n",
        "\n",
        "\n",
        "def reranker_agent(state: RagState) -> Command:\n",
        "    query = state[\"messages\"][-1].content\n",
        "    fixed_docs = [Document(**d) if isinstance(d, dict) else d for d in state[\"docs\"]]\n",
        "    reranked_docs = cohere_reranker.get_relevant_documents(query)\n",
        "    return Command(\n",
        "        goto=\"answer_agent\",\n",
        "        update={\"docs\": reranked_docs})\n",
        "\n",
        "llm = ChatOpenAI(model=\"gpt-3.5-turbo\", temperature=0.3, openai_api_key=openai_api_key)\n",
        "\n",
        "def answer_agent(state: RagState) -> Command:\n",
        "    query = state[\"messages\"][-1].content\n",
        "    context = \"\\n\\n\".join([doc.page_content for doc in state[\"docs\"]])\n",
        "    prompt = f\"Context:\\n{context}\\n\\nQuestion: {query}\"\n",
        "    response = llm.invoke(prompt)\n",
        "    return Command(goto=END, update={\"messages\": [AIMessage(content=response.content)]})\n",
        "\n",
        "\n",
        "rag_graph = (\n",
        "    StateGraph(RagState)\n",
        "    .add_node(\"retriever_agent\", retriever_agent)\n",
        "    .add_node(\"reranker_agent\", reranker_agent)\n",
        "    .add_node(\"answer_agent\", answer_agent)\n",
        "    .add_edge(\"retriever_agent\", \"reranker_agent\")\n",
        "    .add_edge(\"reranker_agent\", \"answer_agent\")\n",
        "    .add_edge(\"answer_agent\", END)\n",
        "    .set_entry_point(\"retriever_agent\")\n",
        "    .compile()\n",
        ")\n"
      ],
      "metadata": {
        "id": "CYWMRaqkB119"
      },
      "execution_count": 159,
      "outputs": []
    },
    {
      "cell_type": "code",
      "source": [
        "from IPython.display import Image,display\n",
        "print(rag_graph.get_graph().draw_mermaid())\n",
        "\n"
      ],
      "metadata": {
        "colab": {
          "base_uri": "https://localhost:8080/"
        },
        "id": "9LBo2NKVEbX1",
        "outputId": "2a2c81e8-bb8b-4796-8698-23c2eb801c82"
      },
      "execution_count": 160,
      "outputs": [
        {
          "output_type": "stream",
          "name": "stdout",
          "text": [
            "---\n",
            "config:\n",
            "  flowchart:\n",
            "    curve: linear\n",
            "---\n",
            "graph TD;\n",
            "\t__start__([<p>__start__</p>]):::first\n",
            "\tretriever_agent(retriever_agent)\n",
            "\treranker_agent(reranker_agent)\n",
            "\tanswer_agent(answer_agent)\n",
            "\t__end__([<p>__end__</p>]):::last\n",
            "\t__start__ --> retriever_agent;\n",
            "\treranker_agent --> answer_agent;\n",
            "\tretriever_agent --> reranker_agent;\n",
            "\tanswer_agent --> __end__;\n",
            "\tclassDef default fill:#f2f0ff,line-height:1.2\n",
            "\tclassDef first fill-opacity:0\n",
            "\tclassDef last fill:#bfb6fc\n",
            "\n"
          ]
        }
      ]
    },
    {
      "cell_type": "code",
      "source": [
        "if __name__ == \"__main__\":\n",
        "    user_input = input(\"❓ Soru: \")\n",
        "    state = {\"messages\": [HumanMessage(content=user_input)], \"docs\": []}\n",
        "    result = rag_graph.invoke(state)\n",
        "\n",
        "    print(\"\\n📤 Yanıt:\")\n",
        "    for m in result[\"messages\"]:\n",
        "        print(f\"{m.type.upper()}: {m.content}\")\n"
      ],
      "metadata": {
        "colab": {
          "base_uri": "https://localhost:8080/"
        },
        "id": "jKXBQm8bETuF",
        "outputId": "2e600401-c102-4f8d-e297-cd8f09a03286"
      },
      "execution_count": 161,
      "outputs": [
        {
          "output_type": "stream",
          "name": "stdout",
          "text": [
            "❓ Soru: Who is directed Interstellar?\n",
            "\n",
            "📤 Yanıt:\n",
            "AI: Interstellar was directed by Christopher Nolan.\n"
          ]
        }
      ]
    },
    {
      "cell_type": "code",
      "source": [],
      "metadata": {
        "id": "FPJFvMqf5Zi8"
      },
      "execution_count": null,
      "outputs": []
    }
  ]
}